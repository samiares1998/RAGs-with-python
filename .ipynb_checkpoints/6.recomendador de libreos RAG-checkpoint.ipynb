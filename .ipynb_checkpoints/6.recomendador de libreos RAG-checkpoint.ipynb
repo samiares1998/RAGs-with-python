{
 "cells": [
  {
   "cell_type": "code",
   "execution_count": 9,
   "id": "e284f2c9-4069-4091-b0c4-980e5c7c0aad",
   "metadata": {},
   "outputs": [
    {
     "data": {
      "text/html": [
       "<div>\n",
       "<style scoped>\n",
       "    .dataframe tbody tr th:only-of-type {\n",
       "        vertical-align: middle;\n",
       "    }\n",
       "\n",
       "    .dataframe tbody tr th {\n",
       "        vertical-align: top;\n",
       "    }\n",
       "\n",
       "    .dataframe thead th {\n",
       "        text-align: right;\n",
       "    }\n",
       "</style>\n",
       "<table border=\"1\" class=\"dataframe\">\n",
       "  <thead>\n",
       "    <tr style=\"text-align: right;\">\n",
       "      <th></th>\n",
       "      <th>title</th>\n",
       "      <th>author</th>\n",
       "      <th>pages</th>\n",
       "      <th>genre</th>\n",
       "      <th>description</th>\n",
       "      <th>published_date</th>\n",
       "      <th>publisher</th>\n",
       "      <th>language</th>\n",
       "      <th>average_rating</th>\n",
       "      <th>ratings_count</th>\n",
       "      <th>thumbnail</th>\n",
       "      <th>meta</th>\n",
       "    </tr>\n",
       "  </thead>\n",
       "  <tbody>\n",
       "    <tr>\n",
       "      <th>0</th>\n",
       "      <td>Fictional Points of View</td>\n",
       "      <td>Peter Lamarque</td>\n",
       "      <td>252</td>\n",
       "      <td>Literary Criticism</td>\n",
       "      <td>The volume focuses on a wide range of thinkers...</td>\n",
       "      <td>1996</td>\n",
       "      <td>Cornell University Press</td>\n",
       "      <td>en</td>\n",
       "      <td>No rating</td>\n",
       "      <td>0</td>\n",
       "      <td>http://books.google.com/books/content?id=rh-om...</td>\n",
       "      <td>Fictional Points of View by Peter Lamarque — L...</td>\n",
       "    </tr>\n",
       "  </tbody>\n",
       "</table>\n",
       "</div>"
      ],
      "text/plain": [
       "                      title          author pages               genre  \\\n",
       "0  Fictional Points of View  Peter Lamarque   252  Literary Criticism   \n",
       "\n",
       "                                         description published_date  \\\n",
       "0  The volume focuses on a wide range of thinkers...           1996   \n",
       "\n",
       "                  publisher language average_rating  ratings_count  \\\n",
       "0  Cornell University Press       en      No rating              0   \n",
       "\n",
       "                                           thumbnail  \\\n",
       "0  http://books.google.com/books/content?id=rh-om...   \n",
       "\n",
       "                                                meta  \n",
       "0  Fictional Points of View by Peter Lamarque — L...  "
      ]
     },
     "execution_count": 9,
     "metadata": {},
     "output_type": "execute_result"
    }
   ],
   "source": [
    "#1 importar el data set de los libros \n",
    "import pandas as pd\n",
    "from langchain_huggingface import HuggingFaceEmbeddings #Libreria para usar los modelos \n",
    "from langchain.vectorstores import Chroma #Base de dato elemental para enrriqueser el LLM\n",
    "\n",
    "#Variable con todas las filas y columnas \n",
    "df = pd.read_csv(\"Books.csv\") \n",
    "\n",
    "#df[\"meta\"] = df.apply(lambda r: f\"{r['title']} by {r['author']} — {r['genre']}\\n{r['description']}\", axis=1)\n",
    "\n",
    "df[\"meta\"] = ( #Codigo recomandado por chatGPT siendo mas eficiente al usar por debajo la libreria numpy\n",
    "    df[\"title\"] + \" by \" + df[\"author\"] + \" — \" + df[\"genre\"] + \"\\n\" + df[\"description\"]\n",
    ")\n",
    "\n",
    "df.head(1)"
   ]
  },
  {
   "cell_type": "code",
   "execution_count": null,
   "id": "36c36f00-f436-4750-84d9-08169db48489",
   "metadata": {},
   "outputs": [],
   "source": [
    "#2  Generar embeddings , transformar la tabla en una tipo vectores \n",
    "# \n",
    "emb_model = HuggingFaceEmbeddings(model_name=\"sentence-transformers/all-MiniLM-L6-v2\")"
   ]
  },
  {
   "cell_type": "code",
   "execution_count": null,
   "id": "4a559ac5-54fb-4b33-a38a-c97306a136a2",
   "metadata": {},
   "outputs": [],
   "source": [
    "#  Guardar vector DB usando chroma lo guardo en memoria\n",
    "vector_db = Chroma.from_texts(df[\"meta\"].tolist(), emb_model, persist_directory=\"./chroma_books\")\n",
    "vector_db.persist()"
   ]
  }
 ],
 "metadata": {
  "kernelspec": {
   "display_name": "Python (llm-env)",
   "language": "python",
   "name": "llm-env"
  },
  "language_info": {
   "codemirror_mode": {
    "name": "ipython",
    "version": 3
   },
   "file_extension": ".py",
   "mimetype": "text/x-python",
   "name": "python",
   "nbconvert_exporter": "python",
   "pygments_lexer": "ipython3",
   "version": "3.11.13"
  }
 },
 "nbformat": 4,
 "nbformat_minor": 5
}
