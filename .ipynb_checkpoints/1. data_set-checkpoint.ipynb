{
 "cells": [
  {
   "cell_type": "code",
   "execution_count": 2,
   "id": "e5d2f738-310e-475f-b053-da910fc67917",
   "metadata": {},
   "outputs": [
    {
     "name": "stdout",
     "output_type": "stream",
     "text": [
      "DatasetDict({\n",
      "    train: Dataset({\n",
      "        features: ['id', 'title', 'context', 'question', 'answers'],\n",
      "        num_rows: 87599\n",
      "    })\n",
      "    validation: Dataset({\n",
      "        features: ['id', 'title', 'context', 'question', 'answers'],\n",
      "        num_rows: 10570\n",
      "    })\n",
      "})\n",
      "{'id': '5733be284776f4190066117f', 'title': 'University_of_Notre_Dame', 'context': 'Architecturally, the school has a Catholic character. Atop the Main Building\\'s gold dome is a golden statue of the Virgin Mary. Immediately in front of the Main Building and facing it, is a copper statue of Christ with arms upraised with the legend \"Venite Ad Me Omnes\". Next to the Main Building is the Basilica of the Sacred Heart. Immediately behind the basilica is the Grotto, a Marian place of prayer and reflection. It is a replica of the grotto at Lourdes, France where the Virgin Mary reputedly appeared to Saint Bernadette Soubirous in 1858. At the end of the main drive (and in a direct line that connects through 3 statues and the Gold Dome), is a simple, modern stone statue of Mary.', 'question': 'What is in front of the Notre Dame Main Building?', 'answers': {'text': ['a copper statue of Christ'], 'answer_start': [188]}}\n"
     ]
    }
   ],
   "source": [
    "from datasets import load_dataset\n",
    "\n",
    "# Cargar dataset QA de ejemplo\n",
    "dataset = load_dataset(\"squad\")\n",
    "\n",
    "print(dataset)  # Train y Validation\n",
    "print(dataset[\"train\"][1])  # primer ejemplo"
   ]
  },
  {
   "cell_type": "code",
   "execution_count": 3,
   "id": "1be7a805-6187-4948-9ac2-14f00cc158a5",
   "metadata": {},
   "outputs": [
    {
     "name": "stdout",
     "output_type": "stream",
     "text": [
      " \n",
      " \n",
      " \n",
      " \n",
      " \n",
      "Manual del Sistema de Atención al Consumidor - SAC  Página 1 de 24 Confidential  \n",
      "MANUAL DEL SISTEMA DE ATENCIÓN AL CONSUMIDOR  \n",
      " \n",
      " \n",
      "Tabla de contenido  \n",
      " \n",
      " \n",
      "INTRODUCCIÓN  ................................ ................................ ................................ ..................  2 \n",
      "PRIMERA PARTE: GENERALIDADES  ................................ ................................ .............  3 \n",
      "1.  Objetivos del SAC  ................................ ..........................\n"
     ]
    }
   ],
   "source": [
    "import PyPDF2\n",
    "\n",
    "def extract_text_from_pdf(pdf_path):\n",
    "    text = \"\"\n",
    "    with open(pdf_path, \"rb\") as f:\n",
    "        reader = PyPDF2.PdfReader(f)\n",
    "        for page in reader.pages:\n",
    "            text += page.extract_text() + \"\\n\"\n",
    "    return text\n",
    "\n",
    "pdf_text = extract_text_from_pdf(\"documento.pdf\")\n",
    "print(pdf_text[:500])"
   ]
  },
  {
   "cell_type": "code",
   "execution_count": 4,
   "id": "3227e3ac-5405-4127-81ed-0361c3bd4e24",
   "metadata": {},
   "outputs": [
    {
     "name": "stdout",
     "output_type": "stream",
     "text": [
      "Manual del Sistema de Atencion al Consumidor - SAC Pagina 1 de  Confidential MANUAL DEL SISTEMA DE ATENCION AL CONSUMIDOR Tabla de contenido INTRODUCCION ................................ ................................ ................................ .................. 2 PRIMERA PARTE: GENERALIDADES ................................ ................................ ............. 3 1. Objetivos del SAC ................................ ................................ ............................\n"
     ]
    }
   ],
   "source": [
    "import re\n",
    "import unicodedata\n",
    "\n",
    "def clean_text(text):\n",
    "    # Normaliza acentos\n",
    "    text = unicodedata.normalize(\"NFKD\", text).encode(\"ascii\", \"ignore\").decode(\"utf-8\")\n",
    "    \n",
    "    # Quita saltos de línea extra y espacios\n",
    "    text = re.sub(r\"\\s+\", \" \", text)\n",
    "    \n",
    "    # Opcional: elimina tablas o números excesivos\n",
    "    text = re.sub(r\"\\d{2,}\", \"\", text)\n",
    "    \n",
    "    return text.strip()\n",
    "\n",
    "cleaned_text = clean_text(pdf_text)\n",
    "print(cleaned_text[:500])"
   ]
  },
  {
   "cell_type": "code",
   "execution_count": 5,
   "id": "41b98939-6a62-4beb-b581-ecb6c16b9b8f",
   "metadata": {},
   "outputs": [],
   "source": [
    "paragraphs = [p.strip() for p in cleaned_text.split(\". \") if len(p) > 30]\n",
    "\n",
    "with open(\"dataset.jsonl\", \"w\", encoding=\"utf-8\") as f:\n",
    "    for p in paragraphs:\n",
    "        f.write(f'{{\"text\": \"{p}\"}}\\n')"
   ]
  },
  {
   "cell_type": "code",
   "execution_count": null,
   "id": "8048b5c1-906e-471c-944c-32ed61fa9cfb",
   "metadata": {},
   "outputs": [],
   "source": []
  }
 ],
 "metadata": {
  "kernelspec": {
   "display_name": "Python (llm)",
   "language": "python",
   "name": "llm"
  },
  "language_info": {
   "codemirror_mode": {
    "name": "ipython",
    "version": 3
   },
   "file_extension": ".py",
   "mimetype": "text/x-python",
   "name": "python",
   "nbconvert_exporter": "python",
   "pygments_lexer": "ipython3",
   "version": "3.13.5"
  }
 },
 "nbformat": 4,
 "nbformat_minor": 5
}
