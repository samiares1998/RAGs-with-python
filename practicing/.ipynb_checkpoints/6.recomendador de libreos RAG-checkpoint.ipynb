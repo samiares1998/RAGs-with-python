{
 "cells": [
  {
   "cell_type": "code",
   "execution_count": 1,
   "id": "e284f2c9-4069-4091-b0c4-980e5c7c0aad",
   "metadata": {},
   "outputs": [
    {
     "name": "stderr",
     "output_type": "stream",
     "text": [
      "/Users/samiarevalo/miniconda3/envs/llm-env/lib/python3.11/site-packages/requests/__init__.py:86: RequestsDependencyWarning: Unable to find acceptable character detection dependency (chardet or charset_normalizer).\n",
      "  warnings.warn(\n"
     ]
    },
    {
     "data": {
      "text/plain": [
       "['Fictional Points of View by Peter Lamarque — Literary Criticism\\nThe volume focuses on a wide range of thinkers, including Iris Murdoch on truth and art, Stanley Cavell on tragedy, Roland Barthes and Michel Foucault on \"the death of the author,\" and Kendall Walton on fearing fictions. Also included is a consideration of the fifteenth-century Japanese playwright and drama teacher Zeami Motokiyo, the founding father of Noh theather.']"
      ]
     },
     "execution_count": 1,
     "metadata": {},
     "output_type": "execute_result"
    }
   ],
   "source": [
    "#1 importar el data set de los libros \n",
    "import pandas as pd\n",
    "from langchain_huggingface import HuggingFaceEmbeddings #Libreria para usar los modelos embeddings\n",
    "from langchain.vectorstores import Chroma #Base de dato elemental para enrriqueser el LLM\n",
    "from langchain_huggingface import HuggingFacePipeline #libreria para usar los LLMS\n",
    "from langchain.chains import RetrievalQA\n",
    "from langchain.prompts import PromptTemplate\n",
    "\n",
    "#Variable con todas las filas y columnas \n",
    "df = pd.read_csv(\"Books.csv\") \n",
    "\n",
    "#df[\"meta\"] = df.apply(lambda r: f\"{r['title']} by {r['author']} — {r['genre']}\\n{r['description']}\", axis=1)\n",
    "\n",
    "df[\"meta\"] = ( #Codigo recomandado por chatGPT siendo mas eficiente al usar por debajo la libreria numpy\n",
    "    df[\"title\"] + \" by \" + df[\"author\"] + \" — \" + df[\"genre\"] + \"\\n\" + df[\"description\"]\n",
    ")\n",
    "\n",
    "df.head(1)\n",
    "df.head(1)[\"meta\"].tolist()"
   ]
  },
  {
   "cell_type": "code",
   "execution_count": 2,
   "id": "36c36f00-f436-4750-84d9-08169db48489",
   "metadata": {},
   "outputs": [
    {
     "name": "stderr",
     "output_type": "stream",
     "text": [
      "/Users/samiarevalo/miniconda3/envs/llm-env/lib/python3.11/site-packages/tqdm/auto.py:21: TqdmWarning: IProgress not found. Please update jupyter and ipywidgets. See https://ipywidgets.readthedocs.io/en/stable/user_install.html\n",
      "  from .autonotebook import tqdm as notebook_tqdm\n"
     ]
    }
   ],
   "source": [
    "#2  Generar embeddings , transformar la tabla en una tipo vectores \n",
    "# \n",
    "emb_model = HuggingFaceEmbeddings(model_name=\"sentence-transformers/all-MiniLM-L6-v2\")"
   ]
  },
  {
   "cell_type": "code",
   "execution_count": 3,
   "id": "4a559ac5-54fb-4b33-a38a-c97306a136a2",
   "metadata": {},
   "outputs": [
    {
     "name": "stderr",
     "output_type": "stream",
     "text": [
      "/var/folders/hh/2_s2wjwn149d94gbtpy67gjc0000gn/T/ipykernel_15704/3706086694.py:11: LangChainDeprecationWarning: Since Chroma 0.4.x the manual persistence method is no longer supported as docs are automatically persisted.\n",
      "  vector_db.persist()\n"
     ]
    }
   ],
   "source": [
    "#3  Guardar vector DB usando chroma lo guardo en memoria\n",
    "texts = df[\"meta\"].tolist()\n",
    "metadatas = [{\"source\": f\"book_{i}\"} for i in range(len(texts))]\n",
    "\n",
    "vector_db = Chroma.from_texts(\n",
    "    texts,\n",
    "    emb_model,\n",
    "    metadatas=metadatas,\n",
    "    persist_directory=\"./chroma_books\"\n",
    ")\n",
    "vector_db.persist()"
   ]
  },
  {
   "cell_type": "code",
   "execution_count": 6,
   "id": "8215a9bb-eb14-42f6-9d37-932b8825a159",
   "metadata": {},
   "outputs": [
    {
     "name": "stderr",
     "output_type": "stream",
     "text": [
      "/Users/samiarevalo/miniconda3/envs/llm-env/lib/python3.11/site-packages/transformers/generation/configuration_utils.py:631: UserWarning: `do_sample` is set to `False`. However, `temperature` is set to `0.4` -- this flag is only used in sample-based generation modes. You should set `do_sample=True` or unset `temperature`. This was detected when initializing the generation config instance, which means the corresponding file may hold incorrect parameterization and should be fixed.\n",
      "  warnings.warn(\n",
      "/Users/samiarevalo/miniconda3/envs/llm-env/lib/python3.11/site-packages/transformers/generation/configuration_utils.py:631: UserWarning: `do_sample` is set to `False`. However, `temperature` is set to `0.4` -- this flag is only used in sample-based generation modes. You should set `do_sample=True` or unset `temperature`.\n",
      "  warnings.warn(\n",
      "Device set to use mps:0\n"
     ]
    },
    {
     "name": "stdout",
     "output_type": "stream",
     "text": [
      "Usa el siguiente contexto para responder la pregunta.\n",
      "No incluyas instrucciones ni explicaciones adicionales, solo responde con la recomendación.\n",
      "\n",
      "Contexto:\n",
      "Odisea nº 15 by Susana Nicolás Román — Foreign Language Study\n",
      "Revista de Estudios Ingleses es un anuario dirigido y gestionado por miembros del Departamento de Filología Inglesa y Alemana de la Universidad de Almería con el propósito de ofrecer un foro de intercambio de producción científica en campos del conocimiento tan diversos como la lengua inglesa, literatura en lengua inglesa, didáctica del inglés, traducción, inglés para fines específicos y otros igualmente vinculados a los estudios ingleses.\n",
      "\n",
      "Pregunta: ¿Me recomiendas un libro de ciencia fiscion porfa?\n",
      "Respuesta: No, no incluyo instrucciones ni explicaciones adicionales, solo responde con la recomendación.\n",
      "\n",
      "Recomendación: \"Odisea nº 15\" de Susana Nicolás Román es un libro de ciencia fiscion que ofrece una perspectiva crítica y reflexiva sobre la economía y la política en la actualidad. El libro es una reflexión sobre la economía y la política en la actualidad, en la que se analizan los problemas y las soluciones que se han presentado en el mundo actual. El libro es una reflexión sobre la economía y la política en la actualidad, en la que se analizan los problemas y las soluciones que se han presentado en el mundo actual.\n",
      "\n",
      "Recomendación: \"Odisea nº 15\" de Susana Nicolás Román es un libro de ciencia fiscion que ofrece una perspectiva crítica y reflexiva sobre la economía y la política en la actualidad. El libro es una reflexión sobre la economía y la política en la actualidad, en la que se analizan los problemas y las soluciones que se han presentado en el mundo actual. El libro es una reflexión sobre la economía y la política en la actualidad, en la que se analizan los problemas y las soluciones que se han presentado en el mundo actual.\n",
      "\n",
      "Recomendación: \"Odisea nº 15\" de Susana Nicolás Román es un libro de ciencia fiscion que ofrece una perspectiva crítica y reflexiva sobre la economía y la política en la actualidad. El libro es una reflexión sobre la economía y la política en la actualidad, en la que se analizan los problemas y las soluciones que se han presentado en el mundo actual. El libro es una reflexión sobre la economía y la política en la actualidad, en la que se analizan los problemas y las soluciones que se han presentado en el mundo actual.\n",
      "\n",
      "Recomendación: \"Odisea nº 15\" de Susana Nicolás Román es un libro de ciencia fiscion que ofrece una perspectiva crítica y reflexiva sobre la economía y la política en la actualidad. El libro es una reflexión sobre la economía y la política en la actualidad, en la que se analizan los problemas y las soluciones que se han presentado en el mundo actual. El libro es una reflexión sobre la economía y la política en la actualidad, en la que se analizan los problemas y las soluciones que se han presentado en el mundo actual.\n",
      "\n",
      "Recomendación: \"Odisea nº 15\" de Susana Nicolás Román es un libro de ciencia fiscion que ofrece una perspectiva crítica y reflexiva sobre la economía y la política en la actualidad. El libro es una reflexión sobre la economía y la política en la actualidad, en la que se analizan los problemas y las soluciones que se han presentado en el mundo actual. El libro es una reflexión sobre la economía y la política en la actualidad, en la que se analizan los problemas y las soluciones que se han presentado en el mundo actual.\n",
      "\n",
      "Recomendación: \"Odisea nº 15\" de Susana Nicolás Román es un libro de ciencia fiscion que ofrece una perspectiva crítica y reflexiva sobre la economía y la política en la actualidad. El libro es una reflexión sobre la economía y la política en la actualidad, en la que se analizan los problemas y las soluciones que se han presentado en el mundo actual. El libro es una reflexión sobre la economía y la política en la actualidad, en la que se analizan los problemas y las soluciones que se han presentado en el mundo actual.\n",
      "\n",
      "Recomendación: \"Odisea nº 15\" de Susana Nicolás Román es un libro de ciencia fiscion que ofrece una perspectiva crítica y reflexiva sobre la economía y la política en la actualidad. El libro es una reflexión sobre la economía y la política en la actualidad, en la que se analizan los problemas y las soluciones que se han presentado en el mundo actual. El libro es una reflexión sobre la economía y la política en la actualidad, en la que se analizan los problemas y las soluciones que se han presentado en el mundo actual.\n",
      "\n",
      "Recomendación: \"Odisea nº 15\" de Susana Nicolás Román es un libro de ciencia fiscion que ofrece una perspectiva crítica y reflexiva sobre la economía y la política en la actualidad. El libro es una reflexión sobre la economía y la política en la actualidad, en la que se analizan los problemas y las soluciones que se han presentado en el mundo actual. El libro es una reflexión sobre la economía y la política en la actualidad, en la que se analizan los problemas y las soluciones que se han presentado en el mundo actual.\n",
      "\n",
      "Recomendación: \"Odisea nº 15\" de Susana Nicolás Román es un libro de ciencia fiscion que ofrece una perspectiva crítica y reflexiva sobre la economía y la política en la actualidad. El libro es una reflexión sobre la economía y la política en la actualidad, en la que se analizan los problemas y las soluciones que se han presentado en el mundo actual. El libro es una reflexión sobre la economía y la política en la actualidad, en la que se analizan los problemas y las soluciones que se han presentado en el mundo actual.\n",
      "\n",
      "Recomendación: \"Odisea nº 15\" de Susana Nicolás Román es un libro de ciencia fiscion que ofrece una perspectiva crítica y reflexiva sobre la economía y la política en la actualidad. El libro es una reflexión sobre la economía y la política en la actualidad, en la que se analizan los problemas y las soluciones que se han presentado en el mundo actual. El libro es una reflexión sobre la economía y la política en la actualidad, en la que se analizan los problemas y las soluciones que se han presentado en el mundo actual.\n",
      "\n",
      "Recomendación: \"Odisea nº 15\" de Susana Nicolás Román es un libro de ciencia fiscion que ofrece una perspectiva crítica y reflexiva sobre la economía y la política en la actualidad. El libro es una reflexión sobre la economía y la política en la actualidad, en la que se analizan los problemas y las soluciones que se han presentado en el mundo actual. El libro es una reflexión sobre la economía y la política en la actualidad, en la que se analizan los problemas y las soluciones que se han presentado en el mundo actual.\n",
      "\n",
      "Recomendación: \"Odisea nº 15\" de Susana Nicolás Román es un libro de ciencia fiscion que ofrece una perspectiva crítica y reflexiva sobre la economía y la política en la actualidad. El libro es una reflexión sobre la economía y la política en la actualidad, en la que se analizan los problemas y las soluciones que se han presentado en el mundo actual. El libro es una reflexión sobre la economía y la política en la actualidad, en la que se analizan los problemas y las soluciones que se han presentado en el mundo actual.\n",
      "\n",
      "Recomendación: \"Odisea nº 15\" de Susana Nicolás Román es un libro de ciencia fiscion que ofrece una perspectiva crítica y reflexiva sobre la economía y la política en la actualidad. El libro es una reflexión sobre la economía y la política en la actualidad, en la\n"
     ]
    }
   ],
   "source": [
    "#4. Búsqueda y generación de respuesta\n",
    "#  Usar el vector store\n",
    "retriever = vector_db.as_retriever(search_kwargs={\"k\": 1})\n",
    "\n",
    "llm = HuggingFacePipeline.from_model_id( #llamo a mi modelo llm\n",
    "    model_id=\"TinyLlama/TinyLlama-1.1B-Chat-v1.0\",\n",
    "    task=\"text-generation\",\n",
    "    model_kwargs={\"temperature\": 0.4, \"max_length\": 512}\n",
    ")\n",
    "\n",
    "template = \"\"\"Usa el siguiente contexto para responder la pregunta.\n",
    "No incluyas instrucciones ni explicaciones adicionales, solo responde con la recomendación.\n",
    "\n",
    "Contexto:\n",
    "{context}\n",
    "\n",
    "Pregunta: {question}\n",
    "Respuesta:\"\"\"\n",
    "\n",
    "PROMPT = PromptTemplate(template=template, input_variables=[\"context\", \"question\"])\n",
    "\n",
    "qa_chain = RetrievalQA.from_chain_type(\n",
    "    llm,\n",
    "    retriever=retriever,\n",
    "    chain_type=\"stuff\",\n",
    "    chain_type_kwargs={\"prompt\": PROMPT}\n",
    ")\n",
    "#  Ejemplo de consulta\n",
    "query = \"¿Me recomiendas un libro de ciencia fiscion porfa?\"\n",
    "response = qa_chain.run(query)\n",
    "print(response)"
   ]
  },
  {
   "cell_type": "code",
   "execution_count": 7,
   "id": "36738630-c70e-40ab-b102-2880928cf54f",
   "metadata": {},
   "outputs": [
    {
     "data": {
      "text/plain": [
       "'U'"
      ]
     },
     "execution_count": 7,
     "metadata": {},
     "output_type": "execute_result"
    }
   ],
   "source": []
  },
  {
   "cell_type": "code",
   "execution_count": null,
   "id": "233be247-be88-4e77-a2a2-7dfb090bd48d",
   "metadata": {},
   "outputs": [],
   "source": []
  },
  {
   "cell_type": "code",
   "execution_count": null,
   "id": "d03c0af6-2ff3-4b76-8fe6-289d384fa7c9",
   "metadata": {},
   "outputs": [],
   "source": []
  }
 ],
 "metadata": {
  "kernelspec": {
   "display_name": "Python (llm-env)",
   "language": "python",
   "name": "llm-env"
  },
  "language_info": {
   "codemirror_mode": {
    "name": "ipython",
    "version": 3
   },
   "file_extension": ".py",
   "mimetype": "text/x-python",
   "name": "python",
   "nbconvert_exporter": "python",
   "pygments_lexer": "ipython3",
   "version": "3.11.13"
  }
 },
 "nbformat": 4,
 "nbformat_minor": 5
}
